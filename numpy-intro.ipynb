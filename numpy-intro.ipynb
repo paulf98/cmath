{
 "cells": [
  {
   "cell_type": "markdown",
   "metadata": {},
   "source": [
    "# Einführung in Numpy\n",
    "\n",
    "Zuerst einmal Benchmarking: Numpy ist viel schneller und effizienter als das Arbeiten mit herkömmlichen Datenstrukturen."
   ]
  },
  {
   "cell_type": "code",
   "execution_count": 2,
   "metadata": {},
   "outputs": [
    {
     "name": "stdout",
     "output_type": "stream",
     "text": [
      "Average time for NumPy broadcasting:  0.008165729200000093\n",
      "Average time for using a list:  0.7121074292000001\n",
      "NumPy gives us an acceleration of factor  87\n"
     ]
    }
   ],
   "source": [
    "import timeit\n",
    "import numpy as np\n",
    "\n",
    "arr = np.arange(1e7)\n",
    "\n",
    "larr = arr.tolist()\n",
    "\n",
    "def list_times(alist, scalar):\n",
    "    for i, val in enumerate(alist):\n",
    "        alist[i] = scalar * val\n",
    "\n",
    "N = 10\n",
    "\n",
    "# NumPy array broadcasting\n",
    "time1 = timeit.timeit('1.1 * arr', 'from __main__ import arr', number=N)\n",
    "time1 /= N\n",
    "print(\"Average time for NumPy broadcasting: \", time1)\n",
    "# List and custom function for broadcasting\n",
    "time2 = timeit.timeit('list_times(larr, 1.1)',\n",
    "'from __main__ import list_times, larr', number=N)\n",
    "time2 /= N\n",
    "print(\"Average time for using a list: \", time2)\n",
    "print(\"NumPy gives us an acceleration of factor \", int(time2/time1))"
   ]
  },
  {
   "cell_type": "markdown",
   "metadata": {},
   "source": [
    "# Arrays mit speziellen Elementen\n",
    "\n",
    "Man kann spezielle Arrays mit leeren Elementen oder anderen speziellen Werten erzeugen:"
   ]
  },
  {
   "cell_type": "code",
   "execution_count": 3,
   "metadata": {},
   "outputs": [
    {
     "name": "stdout",
     "output_type": "stream",
     "text": [
      "np.empty\n",
      "[[-2.31584178e+077 -2.31584178e+077]\n",
      " [ 4.33222861e-311  2.82466461e-309]]\n",
      "np.zeros\n",
      "[0. 0. 0. 0. 0.]\n",
      "np.ones\n",
      "[1. 1. 1. 1. 1.]\n",
      "np.eye\n",
      "[[1. 0. 0. 0.]\n",
      " [0. 1. 0. 0.]\n",
      " [0. 0. 1. 0.]\n",
      " [0. 0. 0. 1.]]\n",
      "np.full\n",
      "[[2. 2. 2.]\n",
      " [2. 2. 2.]]\n"
     ]
    }
   ],
   "source": [
    "# Creating an empty array with given shape\n",
    "arr = np.empty(shape=(2, 2), dtype=np.float64)\n",
    "print('np.empty')\n",
    "print(arr)\n",
    "# Creating an array of zeros with five elements\n",
    "arr = np.zeros(5)\n",
    "print('np.zeros')\n",
    "print(arr)\n",
    "# Creating an array of ones with five elements\n",
    "arr = np.ones(5)\n",
    "print('np.ones')\n",
    "print(arr)\n",
    "# Create the identy matrix\n",
    "arr = np.eye(N=4, dtype=np.float32)\n",
    "print('np.eye')\n",
    "print(arr)\n",
    "# Create a matrix filled with a given value\n",
    "arr = np.full(shape=(2, 3), fill_value=2.0)\n",
    "print('np.full')\n",
    "print(arr)"
   ]
  },
  {
   "cell_type": "markdown",
   "metadata": {},
   "source": [
    "... oder mit speziellen Zahlenbereichen:"
   ]
  },
  {
   "cell_type": "code",
   "execution_count": 4,
   "metadata": {},
   "outputs": [
    {
     "name": "stdout",
     "output_type": "stream",
     "text": [
      "An array in logspace  [ 1.          1.29154967  1.66810054  2.15443469  2.7825594   3.59381366\n",
      "  4.64158883  5.9948425   7.74263683 10.        ]\n"
     ]
    }
   ],
   "source": [
    "# What if we want to create an array going from 0 to 100?\n",
    "arr = np.arange(101)\n",
    "# Or 10 to 100?\n",
    "arr = np.arange(10, 101)\n",
    "# If you want 100 steps from 0 to 1...\n",
    "arr = np.linspace(0, 1, 100)\n",
    "# Or if you want to generate an array from 1 to 10\n",
    "# in log10 space in 10 steps...\n",
    "arr = np.logspace(start=0.0, stop=1.0, num=10, endpoint=True, base=10.0)\n",
    "print(\"An array in logspace \", arr)"
   ]
  },
  {
   "cell_type": "markdown",
   "metadata": {},
   "source": [
    "## Reshaping"
   ]
  },
  {
   "cell_type": "code",
   "execution_count": 5,
   "metadata": {},
   "outputs": [
    {
     "name": "stdout",
     "output_type": "stream",
     "text": [
      "(1000,)\n",
      "(10000,)\n"
     ]
    }
   ],
   "source": [
    "arr1d = np.arange(1000)\n",
    "print(arr1d.shape)\n",
    "# Now reshaping the array to a 10x10x10 3D array\n",
    "arr3d = arr1d.reshape((10, 10, 10))\n",
    "# The reshape command can alternatively be called this way\n",
    "arr3d = np.reshape(arr1d, (10, 10, 10))\n",
    "# Inversely, we can flatten arrays\n",
    "arr4d = np.zeros((10, 10, 10, 10))\n",
    "arr1d = arr4d.ravel()\n",
    "print(arr1d.shape)"
   ]
  },
  {
   "cell_type": "markdown",
   "metadata": {},
   "source": [
    "## Indexing und Slicing"
   ]
  },
  {
   "cell_type": "code",
   "execution_count": 6,
   "metadata": {},
   "outputs": [
    {
     "name": "stdout",
     "output_type": "stream",
     "text": [
      "alist[0, 1] =  2\n",
      "arr[0, 1] =  2\n",
      "the last column of arr:  [2 4]\n",
      "the last row of arr:  [3 4]\n"
     ]
    }
   ],
   "source": [
    "alist = [[1, 2], [3, 4]]\n",
    "# To return the (0,1) element we must index as shown below.\n",
    "print(\"alist[0, 1] = \", alist[0][1])\n",
    "# Converting the list defined above into an array\n",
    "arr = np.array(alist)\n",
    "# To return the (0,1) element we use ...\n",
    "print(\"arr[0, 1] = \", arr[0, 1])\n",
    "# Now to access the last column, we simply use ...\n",
    "print(\"the last column of arr: \", arr[:, 1])\n",
    "# Accessing the rows is achieved in the same way.\n",
    "print(\"the last row of arr: \", arr[1, :])"
   ]
  },
  {
   "cell_type": "markdown",
   "metadata": {},
   "source": [
    "### Indexmengen"
   ]
  },
  {
   "cell_type": "code",
   "execution_count": 7,
   "metadata": {},
   "outputs": [
    {
     "name": "stdout",
     "output_type": "stream",
     "text": [
      "the index array for arr>2:  (array([3, 4]),)\n",
      "the new array with the index array:  [3 4]\n",
      "the boolean index array for arr>2:  [False False False  True  True]\n",
      "the new array with the boolean index array:  [3 4]\n"
     ]
    }
   ],
   "source": [
    "# Creating an array\n",
    "arr = np.arange(5)\n",
    "# Creating the index array\n",
    "index = np.where(arr > 2)\n",
    "print(\"the index array for arr>2: \", index)\n",
    "# Creating the desired array\n",
    "new_arr = arr[index]\n",
    "print(\"the new array with the index array: \", new_arr)\n",
    "\n",
    "# logical values\n",
    "index = arr > 2\n",
    "print(\"the boolean index array for arr>2: \", index)\n",
    "new_arr = arr[index]\n",
    "print(\"the new array with the boolean index array: \", new_arr)"
   ]
  },
  {
   "cell_type": "markdown",
   "metadata": {},
   "source": [
    "### Slicing"
   ]
  },
  {
   "cell_type": "code",
   "execution_count": 8,
   "metadata": {},
   "outputs": [
    {
     "name": "stdout",
     "output_type": "stream",
     "text": [
      "[[1 2 3]\n",
      " [4 5 6]]\n",
      "arr[:, 1]:  [2 5]\n",
      "arr[:, 1:]:  [[2 3]\n",
      " [5 6]]\n",
      "arr[:, 0:2]:  [[1 2]\n",
      " [4 5]]\n",
      "arr[0, :]:  [1 2 3]\n"
     ]
    }
   ],
   "source": [
    "arr = np.array([[1, 2, 3],\n",
    "[4, 5, 6]])\n",
    "print(arr)\n",
    "print(\"arr[:, 1]: \", arr[:, 1])\n",
    "print(\"arr[:, 1:]: \", arr[:, 1:])\n",
    "print(\"arr[:, 0:2]: \", arr[:, 0:2])\n",
    "print(\"arr[0, :]: \", arr[0, :])"
   ]
  },
  {
   "cell_type": "markdown",
   "metadata": {},
   "source": [
    "### Kopien und Referenzen"
   ]
  },
  {
   "cell_type": "code",
   "execution_count": 9,
   "metadata": {},
   "outputs": [
    {
     "name": "stdout",
     "output_type": "stream",
     "text": [
      "arr3d[0, 0, 2] =  2\n",
      "\n",
      "arr3d[0, 0, 2] =  42\n",
      "\n",
      "arr1d[2] =  42\n",
      "arr1d_new[2] =  2\n"
     ]
    }
   ],
   "source": [
    "arr1d = np.arange(1000)\n",
    "arr3d = arr1d.reshape((10, 10, 10))\n",
    "print(\"arr3d[0, 0, 2] = \", arr3d[0, 0, 2])\n",
    "# Change the value of arr1d[2]\n",
    "arr1d[2] = 42.0\n",
    "print(\"\\narr3d[0, 0, 2] = \", arr3d[0, 0, 2])\n",
    "# restore the values\n",
    "arr1d[2] = 2.0\n",
    "# a copy of arr1d\n",
    "arr1d_new = arr1d.copy()\n",
    "# Change arr1d[2] again ...\n",
    "arr1d[2] = 42.0\n",
    "print(\"\\narr1d[2] = \", arr1d[2])\n",
    "print(\"arr1d_new[2] = \", arr1d_new[2])"
   ]
  },
  {
   "cell_type": "markdown",
   "metadata": {},
   "source": [
    "### Mathematische Funktionen in NumPy"
   ]
  },
  {
   "cell_type": "code",
   "execution_count": 10,
   "metadata": {},
   "outputs": [
    {
     "name": "stdout",
     "output_type": "stream",
     "text": [
      "a =  [10 20 30 40]\n",
      "b =  [0 1 2 3]\n",
      "\n",
      "a-b =  [10 19 28 37]\n",
      "b**2 =  [0 1 4 9]\n",
      "5.0 * np.sqrt(a) = [15.8113883  22.36067977 27.38612788 31.6227766 ]\n",
      "inner product np.dot(a, b) =  200\n",
      "vector product np.cross(e1, e2) =  [0. 0. 1.]\n"
     ]
    }
   ],
   "source": [
    "a = np.arange(10, 50, 10)\n",
    "b = np.arange(4)\n",
    "print(\"a = \", a)\n",
    "print(\"b = \", b)\n",
    "c = a - b\n",
    "print(\"\\na-b = \", c)\n",
    "print(\"b**2 = \", b**2)\n",
    "d = 5.0 * np.sqrt(a)\n",
    "print(\"5.0 * np.sqrt(a) =\", d)\n",
    "print(\"inner product np.dot(a, b) = \", np.dot(a, b))\n",
    "e1 = np.array([1.0, 0.0, 0.0], dtype=np.float64)\n",
    "e2 = np.array([0.0, 1.0, 0.0], dtype=np.float64)\n",
    "print(\"vector product np.cross(e1, e2) = \", np.cross(e1, e2))"
   ]
  },
  {
   "cell_type": "markdown",
   "metadata": {},
   "source": [
    "### Zweidimensionale Arrays"
   ]
  },
  {
   "cell_type": "code",
   "execution_count": 11,
   "metadata": {},
   "outputs": [
    {
     "name": "stdout",
     "output_type": "stream",
     "text": [
      "\n",
      "matrix a =\n",
      " [[0. 1.]\n",
      " [2. 3.]]\n",
      "\n",
      "matrix b =\n",
      " [[2. 3.]\n",
      " [4. 5.]]\n",
      "\n",
      "matrix a*b =\n",
      " [[ 0.  3.]\n",
      " [ 8. 15.]]\n",
      "\n",
      "matrix np.dot(a, b) =\n",
      " [[ 4.  5.]\n",
      " [16. 21.]]\n"
     ]
    }
   ],
   "source": [
    "a = np.arange(4.0).reshape((2, 2))\n",
    "print(\"\\nmatrix a =\\n\", a)\n",
    "b = a+2\n",
    "print(\"\\nmatrix b =\\n\", b)\n",
    "# elementwise multiplication\n",
    "c = a*b\n",
    "print(\"\\nmatrix a*b =\\n\", c)\n",
    "# matrix multiplication\n",
    "c = np.dot(a, b)\n",
    "print(\"\\nmatrix np.dot(a, b) =\\n\", c)"
   ]
  },
  {
   "cell_type": "markdown",
   "metadata": {},
   "source": [
    "### Arithmetik"
   ]
  },
  {
   "cell_type": "code",
   "execution_count": 12,
   "metadata": {},
   "outputs": [
    {
     "name": "stdout",
     "output_type": "stream",
     "text": [
      "\n",
      "matrix a =\n",
      " [[1. 1.]\n",
      " [1. 1.]\n",
      " [1. 1.]]\n",
      "matrix b =\n",
      " [[0 1]\n",
      " [2 3]\n",
      " [4 5]]\n",
      "result for b += 1 = \n",
      " [[1 2]\n",
      " [3 4]\n",
      " [5 6]]\n",
      "matrix a += 3.0*a =\n",
      " [[4. 4.]\n",
      " [4. 4.]\n",
      " [4. 4.]]\n"
     ]
    }
   ],
   "source": [
    "a = np.ones((3, 2))\n",
    "b = np.arange(6).reshape(3, 2)\n",
    "print(\"\\nmatrix a =\\n\", a)\n",
    "print(\"matrix b =\\n\", b)\n",
    "b += 1\n",
    "print(\"result for b += 1 = \\n\", b)\n",
    "c = a\n",
    "c += 3.0*a\n",
    "print(\"matrix a += 3.0*a =\\n\", c)"
   ]
  },
  {
   "cell_type": "markdown",
   "metadata": {},
   "source": [
    "### Hilfsfunktionen"
   ]
  },
  {
   "cell_type": "code",
   "execution_count": 13,
   "metadata": {},
   "outputs": [
    {
     "name": "stdout",
     "output_type": "stream",
     "text": [
      "\n",
      "b.min() =  1\n",
      "b.max() =  6\n",
      "b.sum() =  21\n"
     ]
    }
   ],
   "source": [
    "print(\"\\nb.min() = \", b.min())\n",
    "print(\"b.max() = \", b.max())\n",
    "print(\"b.sum() = \", b.sum())"
   ]
  }
 ],
 "metadata": {
  "kernelspec": {
   "display_name": "Python 3.8.8 ('base')",
   "language": "python",
   "name": "python3"
  },
  "language_info": {
   "codemirror_mode": {
    "name": "ipython",
    "version": 3
   },
   "file_extension": ".py",
   "mimetype": "text/x-python",
   "name": "python",
   "nbconvert_exporter": "python",
   "pygments_lexer": "ipython3",
   "version": "3.8.8"
  },
  "orig_nbformat": 4,
  "vscode": {
   "interpreter": {
    "hash": "596e55485385e271691331bfb22cd6df4257e88f882f085c8e38f47f61d1edee"
   }
  }
 },
 "nbformat": 4,
 "nbformat_minor": 2
}
